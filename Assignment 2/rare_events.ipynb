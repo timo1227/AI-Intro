{
 "cells": [
  {
   "cell_type": "markdown",
   "metadata": {},
   "source": [
    "# Classifying rare events\n",
    "\n",
    "## Baseline (20 points)\n",
    "\n",
    "You will start with [this notebook](https://pantelis.github.io/data-science/aiml-common/lectures/cnn/cnn-example-architectures/using_convnets_with_small_datasets.html) and run it (you need GPU acceleration) to get baseline results for the train and test datasets after you address overfitting.  \n",
    "\n",
    "1. Plot the ROC curves\n",
    "2. Plot the Recall-Precision curves\n",
    "3. Confusion matrix for 50% threshold\n",
    "\n",
    "Use [Optuna](https://optuna.org/) to find the best hyperparameters for the baseline model.  \n",
    "\n",
    "Please note that you can use Pytorch for this and subsequent steps of this assignment. You need to recode the model in Pytorch though, however it is typically not very time consuming. "
   ]
  },
  {
   "cell_type": "markdown",
   "metadata": {},
   "source": [
    "## Cause rare events (5 points)\n",
    "\n",
    "Produce another dataset with the same number of examples but with the rare class being 10% and 1% of the total. You can do this by sampling from the original dataset and keeping only 10% of the rare class (cats) and 100% of the common class (dogs).\n",
    "\n",
    "Store such datasets in the `data` directory."
   ]
  },
  {
   "cell_type": "markdown",
   "metadata": {},
   "source": [
    "## Re-train  and re-evaluate  (15 points)\n",
    "\n",
    "Re-train the model on the rare class datasets and evaluate it by reoplicating the results of the baseline case above. Comment on your observations as to what is the performance of the rare class. "
   ]
  },
  {
   "cell_type": "markdown",
   "metadata": {},
   "source": [
    "## Improve (15 points)\n",
    "\n",
    "Improve the performance of the model on the rare class by using **two** of  [the techniques outlined in section 3 of this paper](https://arxiv.org/pdf/2110.04596.pdf). \n",
    "\n",
    "\n"
   ]
  },
  {
   "cell_type": "markdown",
   "metadata": {},
   "source": [
    "## What you will submit\n",
    "\n",
    "You can submit the rare event improvement as a separate notebook. Both must exists in your **private** Github repo we asked you to create for all your assignments under a suitably chosen directory name that we can easily identify as this assignment.   "
   ]
  }
 ],
 "metadata": {
  "language_info": {
   "name": "python"
  },
  "orig_nbformat": 4
 },
 "nbformat": 4,
 "nbformat_minor": 2
}
